{
 "cells": [
  {
   "cell_type": "code",
   "execution_count": 70,
   "metadata": {},
   "outputs": [],
   "source": [
    "import networkx as nx\n",
    "import editdistance\n",
    "import numpy as np\n",
    "import matplotlib.pyplot as plt\n",
    "\n",
    "import scripts.utils as u"
   ]
  },
  {
   "cell_type": "code",
   "execution_count": 71,
   "metadata": {},
   "outputs": [],
   "source": [
    "G = u.get_graph()"
   ]
  },
  {
   "cell_type": "code",
   "execution_count": 72,
   "metadata": {},
   "outputs": [
    {
     "data": {
      "text/plain": [
       "[1, 19, 33, 14]"
      ]
     },
     "execution_count": 72,
     "metadata": {},
     "output_type": "execute_result"
    }
   ],
   "source": [
    "optimal_path = nx.shortest_path(G,source=1, target=14, weight=\"weight\")\n",
    "optimal_path"
   ]
  },
  {
   "cell_type": "code",
   "execution_count": 73,
   "metadata": {},
   "outputs": [],
   "source": [
    "weights = u.get_all_weights(G)"
   ]
  },
  {
   "cell_type": "code",
   "execution_count": 74,
   "metadata": {},
   "outputs": [],
   "source": [
    "np.random.seed(0)\n",
    "median_path, sample_paths = u.get_median_and_sampled_paths(G, weights)\n",
    "dists = [editdistance.eval(optimal_path, sample_path) for sample_path in sample_paths]"
   ]
  },
  {
   "cell_type": "code",
   "execution_count": 75,
   "metadata": {},
   "outputs": [
    {
     "data": {
      "image/png": "[encoded data removed]",
      "text/plain": [
       "<Figure size 432x288 with 1 Axes>"
      ]
     },
     "metadata": {
      "needs_background": "light"
     },
     "output_type": "display_data"
    }
   ],
   "source": [
    "plt.plot([0], editdistance.eval(optimal_path, median_path), 'o')\n",
    "plt.plot(np.array([1]*len(dists)) +.02*np.random.randn(len(dists)), dists, 'o')\n",
    "plt.xticks([0,1], ['median of samples', 'bootstrap of samples'])\n",
    "plt.ylabel(\"Edit distance from optimal path\");"
   ]
  },
  {
   "cell_type": "code",
   "execution_count": 76,
   "metadata": {},
   "outputs": [
    {
     "data": {
      "text/plain": [
       "5.0"
      ]
     },
     "execution_count": 76,
     "metadata": {},
     "output_type": "execute_result"
    }
   ],
   "source": [
    "np.median(dists)"
   ]
  },
  {
   "cell_type": "code",
   "execution_count": 77,
   "metadata": {},
   "outputs": [],
   "source": [
    "all_optimal_paths = nx.shortest_path(G,weight=\"weight\")"
   ]
  },
  {
   "cell_type": "code",
   "execution_count": 78,
   "metadata": {},
   "outputs": [],
   "source": [
    "all_median_paths, all_sample_paths = u.get_all_median_and_sampled_paths(G, weights)"
   ]
  },
  {
   "cell_type": "code",
   "execution_count": 81,
   "metadata": {},
   "outputs": [],
   "source": [
    "nodes = list(all_optimal_paths.keys())\n",
    "\n",
    "median_dists = []\n",
    "bootstrapped_dists = []\n",
    "for s in nodes:\n",
    "    for t in nodes:\n",
    "        optimal_path = all_optimal_paths[s][t]\n",
    "        median_path = all_median_paths[s][t]\n",
    "        median_dists.append(editdistance.eval(optimal_path, median_path))\n",
    "        for sample_path in all_sample_paths:\n",
    "            bootstrapped_dists.append(editdistance.eval(optimal_path, sample_path[s][t]))\n"
   ]
  },
  {
   "cell_type": "code",
   "execution_count": 62,
   "metadata": {},
   "outputs": [
    {
     "data": {
      "image/png": "[encoded data removed]",
      "text/plain": [
       "<Figure size 432x288 with 1 Axes>"
      ]
     },
     "metadata": {
      "needs_background": "light"
     },
     "output_type": "display_data"
    }
   ],
   "source": [
    "plt.plot(np.array([0]*len(median_dists)) +.02*np.random.randn(len(median_dists)), \n",
    "         median_dists, 'o')\n",
    "plt.plot(np.array([1]*len(bootstrapped_dists)) +.02*np.random.randn(len(bootstrapped_dists)), \n",
    "         bootstrapped_dists, 'o')\n",
    "plt.xticks([0,1], ['median of samples', 'bootstrap of samples'])\n",
    "plt.ylabel(\"Edit distance from optimal path\");"
   ]
  },
  {
   "cell_type": "code",
   "execution_count": null,
   "metadata": {},
   "outputs": [],
   "source": []
  }
 ],
 "metadata": {
  "interpreter": {
   "hash": "bb52c3a3fbd28bed2787dfc92005f3c85b155acf67ba344390d117213f233e38"
  },
  "kernelspec": {
   "display_name": "Python 3.8.5 ('research-dev')",
   "language": "python",
   "name": "python3"
  },
  "language_info": {
   "codemirror_mode": {
    "name": "ipython",
    "version": 3
   },
   "file_extension": ".py",
   "mimetype": "text/x-python",
   "name": "python",
   "nbconvert_exporter": "python",
   "pygments_lexer": "ipython3",
   "version": "3.8.5"
  }
 },
 "nbformat": 4,
 "nbformat_minor": 4
}
